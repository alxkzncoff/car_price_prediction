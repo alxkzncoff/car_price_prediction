{
 "cells": [
  {
   "cell_type": "code",
   "execution_count": 6,
   "metadata": {},
   "outputs": [],
   "source": [
    "import pandas as pd"
   ]
  },
  {
   "cell_type": "code",
   "execution_count": 7,
   "metadata": {},
   "outputs": [],
   "source": [
    "data_list = ['data_prt_1.csv', 'data_prt_2.csv', 'data_prt_3.csv', \n",
    "             'data_prt_4.csv', 'data_prt_5.csv', 'data_prt_6.csv', \n",
    "             'data_prt_7.csv', 'data_prt_8.csv', 'data_prt_9.csv',\n",
    "             'data_prt_10.csv', 'data_prt_11.csv', 'data_prt_12.csv',\n",
    "             'data_prt_13.csv', 'data_prt_14.csv', 'data_prt_15.csv']"
   ]
  },
  {
   "cell_type": "code",
   "execution_count": 8,
   "metadata": {},
   "outputs": [],
   "source": [
    "cars = pd.DataFrame()\n",
    "\n",
    "# Объединяем данные в один датафрейм\n",
    "for data in data_list:\n",
    "    df_temp = pd.read_csv(data)\n",
    "    cars = pd.concat([cars,df_temp], sort=False, ignore_index=True)\n",
    "    \n",
    "# Удаляем лишние данные\n",
    "cars = cars.drop(columns=['Unnamed: 0', 'Обмен', 'Гарантия'])"
   ]
  },
  {
   "cell_type": "code",
   "execution_count": 13,
   "metadata": {},
   "outputs": [],
   "source": [
    "cars.to_csv('cars.csv', index=False)"
   ]
  }
 ],
 "metadata": {
  "kernelspec": {
   "display_name": "Python 3",
   "language": "python",
   "name": "python3"
  },
  "language_info": {
   "codemirror_mode": {
    "name": "ipython",
    "version": 3
   },
   "file_extension": ".py",
   "mimetype": "text/x-python",
   "name": "python",
   "nbconvert_exporter": "python",
   "pygments_lexer": "ipython3",
   "version": "3.7.7"
  }
 },
 "nbformat": 4,
 "nbformat_minor": 2
}
