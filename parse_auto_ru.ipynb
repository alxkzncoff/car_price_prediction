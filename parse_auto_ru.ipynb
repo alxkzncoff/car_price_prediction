{
 "cells": [
  {
   "cell_type": "code",
   "execution_count": 7,
   "metadata": {},
   "outputs": [],
   "source": [
    "import pandas as pd\n",
    "\n",
    "import requests as rq\n",
    "\n",
    "from bs4 import BeautifulSoup as bs\n",
    "\n",
    "from datetime import datetime\n",
    "from tqdm.notebook import tqdm\n",
    "import time"
   ]
  },
  {
   "cell_type": "code",
   "execution_count": 34,
   "metadata": {},
   "outputs": [],
   "source": [
    "# Функция parse_auto_links() возвращает ссылки на авто.\n",
    "#\n",
    "# -price_range(type list) задает диапозон цен по которым ищем авто.\n",
    "#\n",
    "# -num_of_pages(type int) задает количество страниц, среди которых ищем ссылки на авто.\n",
    "\n",
    "def parse_auto_links(price_range, num_of_pages=99):\n",
    "    \n",
    "    # Время запуска функции\n",
    "    begin_time = datetime.now()\n",
    "    \n",
    "    # Создаем список для нашых ссылок на авто.\n",
    "    all_auto_links = []\n",
    "    \n",
    "    # Перебираем в цикле цены. Цена задается \"от\", \n",
    "    # т.е. \"от 100_000 и выше\".\n",
    "    for price in price_range:\n",
    "        \n",
    "        # Создаем список, в который сложем все страницы с авто.\n",
    "        all_auto_pages = []     \n",
    "        \n",
    "        print('Searching in price range > '+ str(price))\n",
    "        \n",
    "        # Заполняем созданный список страницами с авто.\n",
    "        for page_number in range(1,num_of_pages+1):\n",
    "            all_auto_pages.append('https://auto.ru/moskva/cars/bmw/used/?output_type=list&page={a}&price_from={b}&sort=price-asc'.format(a=page_number, b=price))\n",
    "        \n",
    "        # Перебираем в цилке список страниц с авто.\n",
    "        # Делаем запрос страницу. После этого вытаскиваем с нее все ссылки на авто.\n",
    "        for url in tqdm(all_auto_pages):\n",
    "            \n",
    "            response = rq.get(url)\n",
    "            page = bs(response.text, 'html.parser')\n",
    "            search_links = page.find_all('a', class_='Link ListingItemTitle-module__link')\n",
    "            \n",
    "            for auto_link in search_links:\n",
    "                all_auto_links.append(auto_link.get('href'))\n",
    "        \n",
    "        print('\\n')\n",
    "    print('Found {} links'.format(len(all_auto_links)))\n",
    "    print('Done')\n",
    "    \n",
    "    # Выводим время выполнения функции\n",
    "    print('Execution time: {}'.format(datetime.now()-begin_time))\n",
    "    \n",
    "    return all_auto_links"
   ]
  },
  {
   "cell_type": "code",
   "execution_count": 35,
   "metadata": {},
   "outputs": [
    {
     "name": "stdout",
     "output_type": "stream",
     "text": [
      "Searching in price range > 1\n"
     ]
    },
    {
     "data": {
      "application/vnd.jupyter.widget-view+json": {
       "model_id": "070a8e4099874483b15a1c9629c8c205",
       "version_major": 2,
       "version_minor": 0
      },
      "text/plain": [
       "HBox(children=(FloatProgress(value=0.0, max=99.0), HTML(value='')))"
      ]
     },
     "metadata": {},
     "output_type": "display_data"
    },
    {
     "name": "stdout",
     "output_type": "stream",
     "text": [
      "\n",
      "\n",
      "\n",
      "Searching in price range > 1100000\n"
     ]
    },
    {
     "data": {
      "application/vnd.jupyter.widget-view+json": {
       "model_id": "166a6c7e39324192932d2192a77168a8",
       "version_major": 2,
       "version_minor": 0
      },
      "text/plain": [
       "HBox(children=(FloatProgress(value=0.0, max=99.0), HTML(value='')))"
      ]
     },
     "metadata": {},
     "output_type": "display_data"
    },
    {
     "name": "stdout",
     "output_type": "stream",
     "text": [
      "\n",
      "\n",
      "\n",
      "Finded 6997 links\n",
      "Done\n",
      "Execution time: 0:12:34.042749\n"
     ]
    }
   ],
   "source": [
    "price_range = [1, 1_100_000]\n",
    "\n",
    "auto_links = parse_auto_links(price_range)"
   ]
  },
  {
   "cell_type": "code",
   "execution_count": 122,
   "metadata": {},
   "outputs": [],
   "source": [
    "time = datetime.now()\n",
    "\n",
    "file=open('bmw_auto_links.txt','w')\n",
    "file.write('Time update: ' + str(time) + '\\n')\n",
    "for link in auto_links:\n",
    "    file.write(link+'\\n')\n",
    "\n",
    "file.close()"
   ]
  },
  {
   "cell_type": "code",
   "execution_count": 91,
   "metadata": {},
   "outputs": [],
   "source": [
    "# Функция parse_auto_data() собирает информацию об авто.\n",
    "#\n",
    "# -auto_links(type list) список ссылок на авто, полученый с помошью функции parse_auto_links\n",
    "\n",
    "def parse_auto_data(auto_links):\n",
    "    \n",
    "    # Время запуска функции\n",
    "    begin_time = datetime.now()\n",
    "    \n",
    "    # Создаем список словарей с данными об авто\n",
    "    auto_data = []\n",
    "    \n",
    "    # Создаем словарь, в котором key - car_index\n",
    "    #                            value - словарь с данными об авто\n",
    "    car_index = 0\n",
    "    all_auto = {}\n",
    "    \n",
    "    # Перебираем в цикле все ссылки на авто\n",
    "    for url in tqdm(auto_links):\n",
    "        \n",
    "        auto_info = []\n",
    "        car_index += 1\n",
    "        \n",
    "        #Создаем словарь с данными об авто\n",
    "        auto = {}\n",
    "        \n",
    "        rp = rq.get(url)\n",
    "        rp.encoding = 'utf-8'\n",
    "        page = bs(rp.text, 'html.parser')\n",
    "        info = page.find_all('span', class_='CardInfo__cell')\n",
    "        \n",
    "        # Собираем через цикл всю информацию об авто\n",
    "        for data in info:\n",
    "            auto_info.append(data.text)\n",
    "            \n",
    "        # Преобразуем список с информацией об авто в словарь, где нечетные индекс это key,\n",
    "        # а четный индекс value\n",
    "        for i in range(0,len(auto_info)-5,2):\n",
    "            auto[auto_info[i]] = auto_info[i+1]\n",
    "        \n",
    "        all_auto[car_index] = auto\n",
    "        \n",
    "    auto_data.append(all_auto)\n",
    "    \n",
    "    print('Done')\n",
    "    \n",
    "    # Выводим время выполнения функции\n",
    "    print('Execution time: {}'.format(datetime.now()-begin_time))\n",
    "    \n",
    "    return auto_data"
   ]
  },
  {
   "cell_type": "code",
   "execution_count": 94,
   "metadata": {
    "scrolled": true
   },
   "outputs": [
    {
     "data": {
      "application/vnd.jupyter.widget-view+json": {
       "model_id": "539be18fc50143ca968a3dc66a3550cf",
       "version_major": 2,
       "version_minor": 0
      },
      "text/plain": [
       "HBox(children=(FloatProgress(value=0.0, max=2.0), HTML(value='')))"
      ]
     },
     "metadata": {},
     "output_type": "display_data"
    },
    {
     "name": "stdout",
     "output_type": "stream",
     "text": [
      "\n",
      "Done\n",
      "Execution time: 0:00:03.317859\n"
     ]
    }
   ],
   "source": [
    "auto_dataset = parse_auto_data(auto_links[0:2])"
   ]
  },
  {
   "cell_type": "code",
   "execution_count": 123,
   "metadata": {},
   "outputs": [
    {
     "data": {
      "text/plain": [
       "[{1: {'год выпуска': '1986',\n",
       "   'Пробег': '220\\xa0000\\xa0км',\n",
       "   'Кузов': 'седан',\n",
       "   'Цвет': 'золотистый',\n",
       "   'Двигатель': '2.7 л / 125\\xa0л.с. / Бензин',\n",
       "   'Налог': '3\\xa0125\\xa0₽ / год',\n",
       "   'Коробка': 'механическая',\n",
       "   'Привод': 'задний',\n",
       "   'Руль': 'Левый',\n",
       "   'Состояние': 'Не требует ремонта',\n",
       "   'Владельцы': '2\\xa0владельца',\n",
       "   'ПТС': 'Оригинал',\n",
       "   'Таможня': 'Растаможен'},\n",
       "  2: {'год выпуска': '1982',\n",
       "   'Пробег': '250\\xa0000\\xa0км',\n",
       "   'Кузов': 'седан',\n",
       "   'Цвет': 'белый',\n",
       "   'Двигатель': '2.0 л / 125\\xa0л.с. / Бензин',\n",
       "   'Налог': '3\\xa0125\\xa0₽ / год',\n",
       "   'Коробка': 'механическая',\n",
       "   'Привод': 'задний',\n",
       "   'Руль': 'Левый',\n",
       "   'Состояние': 'Не требует ремонта',\n",
       "   'Владельцы': '1\\xa0владелец'}}]"
      ]
     },
     "execution_count": 123,
     "metadata": {},
     "output_type": "execute_result"
    }
   ],
   "source": [
    "auto_dataset"
   ]
  }
 ],
 "metadata": {
  "kernelspec": {
   "display_name": "Python 3",
   "language": "python",
   "name": "python3"
  },
  "language_info": {
   "codemirror_mode": {
    "name": "ipython",
    "version": 3
   },
   "file_extension": ".py",
   "mimetype": "text/x-python",
   "name": "python",
   "nbconvert_exporter": "python",
   "pygments_lexer": "ipython3",
   "version": "3.7.7"
  }
 },
 "nbformat": 4,
 "nbformat_minor": 4
}
