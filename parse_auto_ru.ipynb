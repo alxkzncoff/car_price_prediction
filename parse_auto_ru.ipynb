{
 "cells": [
  {
   "cell_type": "code",
   "execution_count": 1,
   "metadata": {},
   "outputs": [],
   "source": [
    "import pandas as pd\n",
    "\n",
    "import requests as rq\n",
    "\n",
    "from bs4 import BeautifulSoup as bs\n",
    "\n",
    "from datetime import datetime\n",
    "from tqdm.notebook import tqdm\n",
    "import time"
   ]
  },
  {
   "cell_type": "code",
   "execution_count": 2,
   "metadata": {},
   "outputs": [],
   "source": [
    "# Функция parse_auto_links() возвращает ссылки на авто.\n",
    "#\n",
    "# -price_range(type list) задает диапозон цен по которым ищем авто.\n",
    "#\n",
    "# -num_of_pages(type int) задает количество страниц, среди которых ищем ссылки на авто.\n",
    "\n",
    "def parse_auto_links(price_range, num_of_pages=99):\n",
    "    \n",
    "    # Время запуска функции\n",
    "    begin_time = datetime.now()\n",
    "    \n",
    "    # Создаем список для нашых ссылок на авто.\n",
    "    all_auto_links = []\n",
    "    \n",
    "    # Перебираем в цикле цены. Цена задается \"от\", \n",
    "    # т.е. \"от 100_000 и выше\".\n",
    "    for price in price_range:\n",
    "        \n",
    "        # Создаем список, в который сложем все страницы с авто.\n",
    "        all_auto_pages = []     \n",
    "        \n",
    "        print('Searching in price range > '+ str(price))\n",
    "        \n",
    "        # Заполняем созданный список страницами с авто.\n",
    "        for page_number in range(1,num_of_pages+1):\n",
    "            all_auto_pages.append('https://auto.ru/moskva/cars/bmw/used/?output_type=list&page={a}&price_from={b}&sort=price-asc'.format(a=page_number, b=price))\n",
    "        \n",
    "        # Перебираем в цилке список страниц с авто.\n",
    "        # Делаем запрос страницу. После этого вытаскиваем с нее все ссылки на авто.\n",
    "        for url in tqdm(all_auto_pages):\n",
    "            \n",
    "            response = rq.get(url)\n",
    "            page = bs(response.text, 'lxml')\n",
    "            search_links = page.find_all('a', class_='Link ListingItemTitle-module__link')\n",
    "            \n",
    "            for auto_link in search_links:\n",
    "                all_auto_links.append(auto_link.get('href'))\n",
    "        \n",
    "        print('\\n')\n",
    "    print('Found {} links'.format(len(all_auto_links)))\n",
    "    print('Done')\n",
    "    \n",
    "    # Выводим время выполнения функции\n",
    "    print('Execution time: {}'.format(datetime.now()-begin_time))\n",
    "    \n",
    "    return all_auto_links"
   ]
  },
  {
   "cell_type": "code",
   "execution_count": 3,
   "metadata": {},
   "outputs": [
    {
     "name": "stdout",
     "output_type": "stream",
     "text": [
      "Searching in price range > 1\n"
     ]
    },
    {
     "data": {
      "application/vnd.jupyter.widget-view+json": {
       "model_id": "376544c46b60430382e5da2f510c763c",
       "version_major": 2,
       "version_minor": 0
      },
      "text/plain": [
       "HBox(children=(FloatProgress(value=0.0, max=99.0), HTML(value='')))"
      ]
     },
     "metadata": {},
     "output_type": "display_data"
    },
    {
     "name": "stdout",
     "output_type": "stream",
     "text": [
      "\n",
      "\n",
      "\n",
      "Searching in price range > 1100000\n"
     ]
    },
    {
     "data": {
      "application/vnd.jupyter.widget-view+json": {
       "model_id": "993b9e214e93403c8a8c9123c8e1a9f1",
       "version_major": 2,
       "version_minor": 0
      },
      "text/plain": [
       "HBox(children=(FloatProgress(value=0.0, max=99.0), HTML(value='')))"
      ]
     },
     "metadata": {},
     "output_type": "display_data"
    },
    {
     "name": "stdout",
     "output_type": "stream",
     "text": [
      "\n",
      "\n",
      "\n",
      "Found 7065 links\n",
      "Done\n",
      "Execution time: 0:05:37.313236\n"
     ]
    }
   ],
   "source": [
    "price_range = [1, 1_100_000]\n",
    "\n",
    "auto_links = parse_auto_links(price_range)"
   ]
  },
  {
   "cell_type": "code",
   "execution_count": 4,
   "metadata": {},
   "outputs": [],
   "source": [
    "time = datetime.now()\n",
    "\n",
    "file=open('bmw_auto_links.txt','w')\n",
    "file.write('Time update: ' + str(time) + '\\n')\n",
    "for link in auto_links:\n",
    "    file.write(link+'\\n')\n",
    "\n",
    "file.close()"
   ]
  },
  {
   "cell_type": "code",
   "execution_count": 2,
   "metadata": {},
   "outputs": [],
   "source": [
    "# auto_links = []\n",
    "\n",
    "# file=open('bmw_auto_links.txt','r')\n",
    "\n",
    "# for link in file:\n",
    "#     auto_links.append(link[:-1])\n",
    "\n",
    "# auto_links.pop(0)"
   ]
  },
  {
   "cell_type": "code",
   "execution_count": 8,
   "metadata": {},
   "outputs": [],
   "source": [
    "# Функция parse_auto_data() собирает информацию об авто.\n",
    "#\n",
    "# -auto_links(type list) список ссылок на авто, полученый с помошью функции parse_auto_links\n",
    "\n",
    "def parse_auto_data(auto_links):\n",
    "    \n",
    "    # Время запуска функции\n",
    "    begin_time = datetime.now()\n",
    "    \n",
    "    # Создаем список словарей с данными об авто \n",
    "    all_auto = []\n",
    "    \n",
    "    # Список ссылок с ошибками\n",
    "    error_links = []\n",
    "    \n",
    "    # Перебираем в цикле все ссылки на авто\n",
    "    for url in tqdm(auto_links):\n",
    "        \n",
    "        auto_info = []\n",
    "        \n",
    "        #Создаем словарь с данными об авто\n",
    "        auto = {}\n",
    "        \n",
    "        rp = rq.get(url)\n",
    "        \n",
    "#         #Проверяем код запроса. Если не 200 (успешный запрос), повторяем\n",
    "#         while rp.status_code != 200:\n",
    "#             rp = rq.get(url)\n",
    "        \n",
    "        rp.encoding = 'utf-8'\n",
    "        page = bs(rp.text, 'lxml')\n",
    "        \n",
    "        ################################################################\n",
    "        # Ищем название модели\n",
    "        car_name = page.find_all('div', class_='CardBreadcrumbs__item')\n",
    "        \n",
    "        # Добавляем имя в словарь\n",
    "        try:\n",
    "            auto['name'] = car_name[5].text\n",
    "        except:\n",
    "            print('Empty car_name')\n",
    "            error_links.append(url)\n",
    "            \n",
    "        ###############################################################\n",
    "        # Парсим всю техническую информацию об авто\n",
    "        info = page.find_all('span', class_='CardInfo__cell')\n",
    "\n",
    "        # Добавляем информацию об авто в словарь\n",
    "        for data in info:\n",
    "            auto_info.append(data.text)\n",
    "            \n",
    "        # Преобразуем список с информацией об авто в словарь, где нечетный индекс это key,\n",
    "        # а четный индекс value\n",
    "        for i in range(0,len(auto_info)-5,2):\n",
    "            auto[auto_info[i]] = auto_info[i+1]\n",
    "            \n",
    "        ################################################################\n",
    "        # Ищем ссылку на каталог с характеристиками модели\n",
    "        car_catalog_info = page.find('a', class_='Link SpoilerLink CardCatalogLink SpoilerLink_type_default')\n",
    "        catalog_info_url = car_catalog_info.get('href')\n",
    "\n",
    "        ################################################################\n",
    "        # Ищем информацию о комплектации\n",
    "        comp_info = []\n",
    "        \n",
    "        comp = page.find_all('li', class_='CardComplectation__itemContentEl')\n",
    "        for info in comp:\n",
    "            comp_info.append(info.text)\n",
    "        \n",
    "        auto['Комплектация'] = comp_info\n",
    "        \n",
    "        ################################################################\n",
    "        # Ищем цену авто\n",
    "        lisf_of_price = page.find_all('span', class_='OfferPriceCaption__price')\n",
    "        \n",
    "        # Добавляем цену в словарь\n",
    "        for price in lisf_of_price:\n",
    "            auto['Цена'] = price.text\n",
    "            \n",
    "        ###############################################################    \n",
    "        # Заходим в \"Характеристики модели в каталоге\", чтобы найти доп. информацию\n",
    "        rp_catalog = rq.get(catalog_info_url)\n",
    "        \n",
    "#         # Опять проверяем код запроса\n",
    "#         while rp_catalog.status_code != 200:\n",
    "#             rp_catalog = rq.get(url)\n",
    "        \n",
    "        rp_catalog.encoding = 'utf-8'\n",
    "        catalog_page = bs(rp_catalog.text, 'lxml')\n",
    "        \n",
    "        extra_info = catalog_page.find_all('dd', class_='list-values__value')\n",
    "        \n",
    "        # Почему-то иногда команда возвращает пустой список, из-за этого прерывается\n",
    "        # работа функции. Добавил исключение. Если список пустой, то сохраняем\n",
    "        # адрес ссылки в которой не удалось собрать данные\n",
    "        try:\n",
    "            auto['numberOfDoors'] = extra_info[10].text\n",
    "        except:\n",
    "            print('Empty extra_info')\n",
    "            error_links.append(url)\n",
    "            \n",
    "        all_auto.append(auto)\n",
    "    \n",
    "    print('Done')\n",
    "    \n",
    "    # Выводим время выполнения функции\n",
    "    print('Execution time: {}'.format(datetime.now()-begin_time))\n",
    "    \n",
    "    return all_auto"
   ]
  },
  {
   "cell_type": "code",
   "execution_count": 292,
   "metadata": {
    "scrolled": true
   },
   "outputs": [
    {
     "data": {
      "application/vnd.jupyter.widget-view+json": {
       "model_id": "e7acdf5324ef4170a22d9a7cdab8f4a4",
       "version_major": 2,
       "version_minor": 0
      },
      "text/plain": [
       "HBox(children=(FloatProgress(value=0.0, max=1000.0), HTML(value='')))"
      ]
     },
     "metadata": {},
     "output_type": "display_data"
    },
    {
     "name": "stdout",
     "output_type": "stream",
     "text": [
      "\n",
      "Done\n",
      "Execution time: 0:20:02.823638\n"
     ]
    }
   ],
   "source": [
    "auto_dataset_prt_1 = parse_auto_data(auto_links[0:1000])"
   ]
  },
  {
   "cell_type": "code",
   "execution_count": 5,
   "metadata": {
    "scrolled": false
   },
   "outputs": [
    {
     "data": {
      "application/vnd.jupyter.widget-view+json": {
       "model_id": "70ffcc92cc4b4dd99e354e908a380c82",
       "version_major": 2,
       "version_minor": 0
      },
      "text/plain": [
       "HBox(children=(FloatProgress(value=0.0, max=999.0), HTML(value='')))"
      ]
     },
     "metadata": {},
     "output_type": "display_data"
    },
    {
     "name": "stdout",
     "output_type": "stream",
     "text": [
      "\n",
      "Done\n",
      "Execution time: 0:30:28.947757\n"
     ]
    }
   ],
   "source": [
    "auto_dataset_prt_2 = parse_auto_data(auto_links[1001:2000])"
   ]
  },
  {
   "cell_type": "code",
   "execution_count": null,
   "metadata": {},
   "outputs": [
    {
     "data": {
      "application/vnd.jupyter.widget-view+json": {
       "model_id": "677db3e042b842c58cc109490d8a41c0",
       "version_major": 2,
       "version_minor": 0
      },
      "text/plain": [
       "HBox(children=(FloatProgress(value=0.0, max=999.0), HTML(value='')))"
      ]
     },
     "metadata": {},
     "output_type": "display_data"
    },
    {
     "name": "stdout",
     "output_type": "stream",
     "text": [
      "Empty extra_info\n"
     ]
    }
   ],
   "source": [
    "auto_dataset_prt_3 = parse_auto_data(auto_links[2001:3000])"
   ]
  },
  {
   "cell_type": "code",
   "execution_count": null,
   "metadata": {},
   "outputs": [],
   "source": [
    "auto_dataset_prt_4 = parse_auto_data(auto_links[3001:4000])"
   ]
  },
  {
   "cell_type": "code",
   "execution_count": null,
   "metadata": {},
   "outputs": [],
   "source": [
    "auto_dataset_prt_5 = parse_auto_data(auto_links[5001:6000])"
   ]
  },
  {
   "cell_type": "code",
   "execution_count": null,
   "metadata": {},
   "outputs": [],
   "source": [
    "auto_dataset_prt_6 = parse_auto_data(auto_links[6001:7000])"
   ]
  },
  {
   "cell_type": "code",
   "execution_count": null,
   "metadata": {},
   "outputs": [],
   "source": [
    "auto_dataset_prt_7 = parse_auto_data(auto_links[7001:])"
   ]
  },
  {
   "cell_type": "code",
   "execution_count": 301,
   "metadata": {},
   "outputs": [],
   "source": [
    "data_prt_1 = pd.DataFrame(data=auto_dataset_prt_1)\n",
    "data_prt_1.to_csv('data_prt_1.csv')"
   ]
  },
  {
   "cell_type": "code",
   "execution_count": 6,
   "metadata": {},
   "outputs": [],
   "source": [
    "data_prt_2 = pd.DataFrame(data=auto_dataset_prt_2)\n",
    "data_prt_2.to_csv('data_prt_2.csv')"
   ]
  },
  {
   "cell_type": "code",
   "execution_count": null,
   "metadata": {},
   "outputs": [],
   "source": [
    "data_prt_3 = pd.DataFrame(data=auto_dataset_prt_3)\n",
    "data_prt_3.to_csv('data_prt_3.csv')"
   ]
  },
  {
   "cell_type": "code",
   "execution_count": null,
   "metadata": {},
   "outputs": [],
   "source": [
    "data_prt_4 = pd.DataFrame(data=auto_dataset_prt_4)\n",
    "data_prt_4.to_csv('data_prt_4.csv')"
   ]
  },
  {
   "cell_type": "code",
   "execution_count": null,
   "metadata": {},
   "outputs": [],
   "source": [
    "data_prt_5 = pd.DataFrame(data=auto_dataset_prt_5)\n",
    "data_prt_5.to_csv('data_prt_5.csv')"
   ]
  },
  {
   "cell_type": "code",
   "execution_count": null,
   "metadata": {},
   "outputs": [],
   "source": [
    "data_prt_6 = pd.DataFrame(data=auto_dataset_prt_6)\n",
    "data_prt_6.to_csv('data_prt_6.csv')"
   ]
  },
  {
   "cell_type": "code",
   "execution_count": null,
   "metadata": {},
   "outputs": [],
   "source": [
    "data_prt_7 = pd.DataFrame(data=auto_dataset_prt_7)\n",
    "data_prt_7.to_csv('data_prt_7.csv')"
   ]
  }
 ],
 "metadata": {
  "kernelspec": {
   "display_name": "Python 3",
   "language": "python",
   "name": "python3"
  },
  "language_info": {
   "codemirror_mode": {
    "name": "ipython",
    "version": 3
   },
   "file_extension": ".py",
   "mimetype": "text/x-python",
   "name": "python",
   "nbconvert_exporter": "python",
   "pygments_lexer": "ipython3",
   "version": "3.7.7"
  }
 },
 "nbformat": 4,
 "nbformat_minor": 4
}
