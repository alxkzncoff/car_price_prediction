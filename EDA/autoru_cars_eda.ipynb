{
 "cells": [
  {
   "cell_type": "code",
   "execution_count": 1,
   "metadata": {},
   "outputs": [],
   "source": [
    "from datetime import datetime\n",
    "\n",
    "import pandas as pd\n",
    "\n",
    "pd.set_option('display.max_rows', 200)\n",
    "pd.set_option('display.max_columns', 50)\n",
    "\n",
    "import matplotlib.pyplot as plt\n",
    "%matplotlib inline\n",
    "\n",
    "import seaborn as sns\n",
    "\n",
    "from sklearn.preprocessing import OneHotEncoder"
   ]
  },
  {
   "cell_type": "code",
   "execution_count": 2,
   "metadata": {
    "scrolled": false
   },
   "outputs": [
    {
     "data": {
      "text/html": [
       "<div>\n",
       "<style scoped>\n",
       "    .dataframe tbody tr th:only-of-type {\n",
       "        vertical-align: middle;\n",
       "    }\n",
       "\n",
       "    .dataframe tbody tr th {\n",
       "        vertical-align: top;\n",
       "    }\n",
       "\n",
       "    .dataframe thead th {\n",
       "        text-align: right;\n",
       "    }\n",
       "</style>\n",
       "<table border=\"1\" class=\"dataframe\">\n",
       "  <thead>\n",
       "    <tr style=\"text-align: right;\">\n",
       "      <th></th>\n",
       "      <th>Unnamed: 0</th>\n",
       "      <th>test</th>\n",
       "      <th>style</th>\n",
       "      <th>body</th>\n",
       "      <th>color</th>\n",
       "      <th>fuel</th>\n",
       "      <th>model_date</th>\n",
       "      <th>doors</th>\n",
       "      <th>production_date</th>\n",
       "      <th>transmission</th>\n",
       "      <th>engine_displacement</th>\n",
       "      <th>engine_power</th>\n",
       "      <th>mileage</th>\n",
       "      <th>drive_type</th>\n",
       "      <th>wheel</th>\n",
       "      <th>condition</th>\n",
       "      <th>owners</th>\n",
       "      <th>vehicle_title</th>\n",
       "      <th>description</th>\n",
       "      <th>features</th>\n",
       "      <th>ownership</th>\n",
       "      <th>price</th>\n",
       "    </tr>\n",
       "  </thead>\n",
       "  <tbody>\n",
       "    <tr>\n",
       "      <th>0</th>\n",
       "      <td>0</td>\n",
       "      <td>0</td>\n",
       "      <td>525E</td>\n",
       "      <td>седан</td>\n",
       "      <td>золотистый</td>\n",
       "      <td>Бензин</td>\n",
       "      <td>Unknown</td>\n",
       "      <td>4</td>\n",
       "      <td>1986</td>\n",
       "      <td>механическая</td>\n",
       "      <td>2.7</td>\n",
       "      <td>125</td>\n",
       "      <td>220000.0</td>\n",
       "      <td>задний</td>\n",
       "      <td>Левый</td>\n",
       "      <td>Не требует ремонта</td>\n",
       "      <td>2</td>\n",
       "      <td>Оригинал</td>\n",
       "      <td>Unknown</td>\n",
       "      <td>Unknown</td>\n",
       "      <td>NaN</td>\n",
       "      <td>50000.0</td>\n",
       "    </tr>\n",
       "    <tr>\n",
       "      <th>1</th>\n",
       "      <td>1</td>\n",
       "      <td>0</td>\n",
       "      <td>525i</td>\n",
       "      <td>седан</td>\n",
       "      <td>серый</td>\n",
       "      <td>Бензин</td>\n",
       "      <td>Unknown</td>\n",
       "      <td>4</td>\n",
       "      <td>1988</td>\n",
       "      <td>механическая</td>\n",
       "      <td>2.5</td>\n",
       "      <td>170</td>\n",
       "      <td>300000.0</td>\n",
       "      <td>задний</td>\n",
       "      <td>Левый</td>\n",
       "      <td>Не требует ремонта</td>\n",
       "      <td>3</td>\n",
       "      <td>Дубликат</td>\n",
       "      <td>Unknown</td>\n",
       "      <td>Unknown</td>\n",
       "      <td>NaN</td>\n",
       "      <td>70000.0</td>\n",
       "    </tr>\n",
       "    <tr>\n",
       "      <th>2</th>\n",
       "      <td>2</td>\n",
       "      <td>0</td>\n",
       "      <td>318i</td>\n",
       "      <td>седан</td>\n",
       "      <td>зелёный</td>\n",
       "      <td>Бензин</td>\n",
       "      <td>Unknown</td>\n",
       "      <td>5</td>\n",
       "      <td>1994</td>\n",
       "      <td>механическая</td>\n",
       "      <td>1.8</td>\n",
       "      <td>115</td>\n",
       "      <td>350000.0</td>\n",
       "      <td>задний</td>\n",
       "      <td>Левый</td>\n",
       "      <td>Не требует ремонта</td>\n",
       "      <td>3</td>\n",
       "      <td>Дубликат</td>\n",
       "      <td>Unknown</td>\n",
       "      <td>Unknown</td>\n",
       "      <td>9 месяцев</td>\n",
       "      <td>70000.0</td>\n",
       "    </tr>\n",
       "    <tr>\n",
       "      <th>3</th>\n",
       "      <td>3</td>\n",
       "      <td>0</td>\n",
       "      <td>520i</td>\n",
       "      <td>седан</td>\n",
       "      <td>чёрный</td>\n",
       "      <td>Бензин</td>\n",
       "      <td>Unknown</td>\n",
       "      <td>4</td>\n",
       "      <td>1992</td>\n",
       "      <td>механическая</td>\n",
       "      <td>2.0</td>\n",
       "      <td>150</td>\n",
       "      <td>100000.0</td>\n",
       "      <td>задний</td>\n",
       "      <td>Левый</td>\n",
       "      <td>Не требует ремонта</td>\n",
       "      <td>3</td>\n",
       "      <td>Оригинал</td>\n",
       "      <td>Unknown</td>\n",
       "      <td>Unknown</td>\n",
       "      <td>NaN</td>\n",
       "      <td>70000.0</td>\n",
       "    </tr>\n",
       "    <tr>\n",
       "      <th>4</th>\n",
       "      <td>4</td>\n",
       "      <td>0</td>\n",
       "      <td>520i</td>\n",
       "      <td>седан</td>\n",
       "      <td>чёрный</td>\n",
       "      <td>Бензин</td>\n",
       "      <td>Unknown</td>\n",
       "      <td>4</td>\n",
       "      <td>1992</td>\n",
       "      <td>механическая</td>\n",
       "      <td>2.0</td>\n",
       "      <td>150</td>\n",
       "      <td>250000.0</td>\n",
       "      <td>задний</td>\n",
       "      <td>Левый</td>\n",
       "      <td>Не требует ремонта</td>\n",
       "      <td>3</td>\n",
       "      <td>Дубликат</td>\n",
       "      <td>Unknown</td>\n",
       "      <td>['Электростеклоподъёмники задние', 'Электросте...</td>\n",
       "      <td>5 месяцев</td>\n",
       "      <td>75000.0</td>\n",
       "    </tr>\n",
       "  </tbody>\n",
       "</table>\n",
       "</div>"
      ],
      "text/plain": [
       "   Unnamed: 0  test style   body       color     fuel model_date  doors  \\\n",
       "0           0     0  525E  седан  золотистый   Бензин    Unknown      4   \n",
       "1           1     0  525i  седан       серый   Бензин    Unknown      4   \n",
       "2           2     0  318i  седан     зелёный   Бензин    Unknown      5   \n",
       "3           3     0  520i  седан      чёрный   Бензин    Unknown      4   \n",
       "4           4     0  520i  седан      чёрный   Бензин    Unknown      4   \n",
       "\n",
       "   production_date  transmission  engine_displacement  engine_power   mileage  \\\n",
       "0             1986  механическая                  2.7           125  220000.0   \n",
       "1             1988  механическая                  2.5           170  300000.0   \n",
       "2             1994  механическая                  1.8           115  350000.0   \n",
       "3             1992  механическая                  2.0           150  100000.0   \n",
       "4             1992  механическая                  2.0           150  250000.0   \n",
       "\n",
       "  drive_type  wheel           condition  owners vehicle_title description  \\\n",
       "0     задний  Левый  Не требует ремонта       2      Оригинал     Unknown   \n",
       "1     задний  Левый  Не требует ремонта       3      Дубликат     Unknown   \n",
       "2     задний  Левый  Не требует ремонта       3      Дубликат     Unknown   \n",
       "3     задний  Левый  Не требует ремонта       3      Оригинал     Unknown   \n",
       "4     задний  Левый  Не требует ремонта       3      Дубликат     Unknown   \n",
       "\n",
       "                                            features  ownership    price  \n",
       "0                                            Unknown        NaN  50000.0  \n",
       "1                                            Unknown        NaN  70000.0  \n",
       "2                                            Unknown  9 месяцев  70000.0  \n",
       "3                                            Unknown        NaN  70000.0  \n",
       "4  ['Электростеклоподъёмники задние', 'Электросте...  5 месяцев  75000.0  "
      ]
     },
     "metadata": {},
     "output_type": "display_data"
    },
    {
     "name": "stdout",
     "output_type": "stream",
     "text": [
      "<class 'pandas.core.frame.DataFrame'>\n",
      "RangeIndex: 6034 entries, 0 to 6033\n",
      "Data columns (total 22 columns):\n",
      " #   Column               Non-Null Count  Dtype  \n",
      "---  ------               --------------  -----  \n",
      " 0   Unnamed: 0           6034 non-null   int64  \n",
      " 1   test                 6034 non-null   int64  \n",
      " 2   style                6034 non-null   object \n",
      " 3   body                 6034 non-null   object \n",
      " 4   color                6034 non-null   object \n",
      " 5   fuel                 6034 non-null   object \n",
      " 6   model_date           6034 non-null   object \n",
      " 7   doors                6034 non-null   int64  \n",
      " 8   production_date      6034 non-null   int64  \n",
      " 9   transmission         6034 non-null   object \n",
      " 10  engine_displacement  6034 non-null   float64\n",
      " 11  engine_power         6034 non-null   int64  \n",
      " 12  mileage              6034 non-null   float64\n",
      " 13  drive_type           6034 non-null   object \n",
      " 14  wheel                6034 non-null   object \n",
      " 15  condition            6034 non-null   object \n",
      " 16  owners               6034 non-null   int64  \n",
      " 17  vehicle_title        6034 non-null   object \n",
      " 18  description          6034 non-null   object \n",
      " 19  features             6034 non-null   object \n",
      " 20  ownership            2527 non-null   object \n",
      " 21  price                6034 non-null   float64\n",
      "dtypes: float64(3), int64(6), object(13)\n",
      "memory usage: 1.0+ MB\n"
     ]
    }
   ],
   "source": [
    "cars = pd.read_csv('autoru_cars.csv')\n",
    "\n",
    "display(cars.head(5))\n",
    "cars.info()"
   ]
  },
  {
   "cell_type": "code",
   "execution_count": 3,
   "metadata": {},
   "outputs": [],
   "source": [
    "def column_stats(column):\n",
    "    \n",
    "    if column.dtype == 'int64' or column.dtype == 'float64':\n",
    "        \n",
    "        display(column.describe())\n",
    "        \n",
    "        plt.figure(figsize=(8,5))\n",
    "        column.hist(bins=column.nunique())     \n",
    "    else:\n",
    "        display(column.describe())\n",
    "        display(column.value_counts())      "
   ]
  },
  {
   "cell_type": "code",
   "execution_count": 4,
   "metadata": {},
   "outputs": [],
   "source": [
    "# def add_dummies(df, column, rename_params):\n",
    "    \n",
    "#     # Создаем дамми переменные\n",
    "#     temp_dummies = pd.get_dummies(df[column])\n",
    "    \n",
    "#     # Переименовываем названия колонок\n",
    "#     temp_dummies.rename(columns = rename_params, inplace=True)\n",
    "    \n",
    "#     # Добавляем полученные дамми к нашему датасету, удалив при этом старую колонку\n",
    "#     df = pd.concat([df, temp_dummies], axis=1)\n",
    "#     df = df.drop([column], axis=1)\n",
    "    \n",
    "#     return df"
   ]
  },
  {
   "cell_type": "code",
   "execution_count": 5,
   "metadata": {},
   "outputs": [],
   "source": [
    "def onehot_encode(data_frame, column, rename_params={}, rename=False):\n",
    "    \n",
    "    onehot_encoder = OneHotEncoder()\n",
    "    \n",
    "    # Кодируем переменные\n",
    "    enc = onehot_encoder.fit_transform(column).toarray()\n",
    "    \n",
    "    # Создаем временный датафрейм\n",
    "    temp_df = pd.DataFrame(enc, columns=onehot_encoder.categories_[0])\n",
    "    \n",
    "    if rename:\n",
    "        # Переименовываем названия колонок\n",
    "        temp_df.rename(columns = rename_params, inplace=True)\n",
    "\n",
    "    # Добавляем полученный датафрейм к нашему датафрейму\n",
    "    data_frame = pd.concat([data_frame, temp_df], axis=1)\n",
    "    \n",
    "    return data_frame"
   ]
  },
  {
   "cell_type": "markdown",
   "metadata": {},
   "source": [
    "# style"
   ]
  },
  {
   "cell_type": "code",
   "execution_count": 6,
   "metadata": {
    "scrolled": true
   },
   "outputs": [
    {
     "data": {
      "text/plain": [
       "count     6034\n",
       "unique     143\n",
       "top        30d\n",
       "freq       484\n",
       "Name: style, dtype: object"
      ]
     },
     "metadata": {},
     "output_type": "display_data"
    },
    {
     "data": {
      "text/plain": [
       "30d             484\n",
       "320i            380\n",
       "520i            373\n",
       "35i             347\n",
       "20d             292\n",
       "520d            265\n",
       "116i            201\n",
       "3.0i            188\n",
       "318i            188\n",
       "20i             174\n",
       "528i            156\n",
       "320d            148\n",
       "525i            146\n",
       "530d            119\n",
       "30i             119\n",
       "523i            116\n",
       "40d             103\n",
       "18i             100\n",
       "3.0d             91\n",
       "3.0si            86\n",
       "28i              84\n",
       "50i              78\n",
       "118i             77\n",
       "325i             71\n",
       "530i             68\n",
       "750Li            67\n",
       "316i             66\n",
       "48i              66\n",
       "4.4i             62\n",
       "M50d             60\n",
       "35d              57\n",
       "25i              55\n",
       "525d             50\n",
       "740Li            48\n",
       "730d             47\n",
       "535i             46\n",
       "25d              44\n",
       "325xi            39\n",
       "730Ld            38\n",
       "328i             36\n",
       "640i             31\n",
       "650i             31\n",
       "4.8i             28\n",
       "740d             26\n",
       "330i             25\n",
       "530xi            24\n",
       "750i             23\n",
       "640d             23\n",
       "40i              22\n",
       "420d             22\n",
       "525xi            21\n",
       "540i             20\n",
       "120i             19\n",
       "730i             18\n",
       "520Li            18\n",
       "335i             17\n",
       "735i             17\n",
       "18d              16\n",
       "420i             15\n",
       "745i             15\n",
       "3.0sd            14\n",
       "740i             14\n",
       "728i             14\n",
       "745Li            13\n",
       "120d             13\n",
       "323i             13\n",
       "428i             12\n",
       "550i             11\n",
       "4.8is            10\n",
       "528Li             9\n",
       "535d              9\n",
       "318d              8\n",
       "760Li             8\n",
       "725Ld             7\n",
       "sDrive18i         7\n",
       "330xi             7\n",
       "630i              7\n",
       "435i              7\n",
       "335xi             7\n",
       "840d              7\n",
       "ActiveHybrid      7\n",
       "750Ld             6\n",
       "4.6is             6\n",
       "430i              6\n",
       "735Li             5\n",
       "645i              5\n",
       "xDrive20i         5\n",
       "xDrive20d         5\n",
       "23d               5\n",
       "M550d             5\n",
       "xDrive18d         4\n",
       "518i              4\n",
       "330d              4\n",
       "130i              4\n",
       "750d              4\n",
       "630d              4\n",
       "125i              4\n",
       "1.5hyb            4\n",
       "M760Li            4\n",
       "M850i             3\n",
       "545i              3\n",
       "340i              3\n",
       "M50i              3\n",
       "850i              3\n",
       "740Ld             3\n",
       "220d              3\n",
       "218i              3\n",
       "440i              3\n",
       "730Li             3\n",
       "2.0d              3\n",
       "M40d              3\n",
       "216d              2\n",
       "135i              2\n",
       "316               2\n",
       "118d              2\n",
       "220i              2\n",
       "M40i              2\n",
       "0.7hyb            2\n",
       "535xi             2\n",
       "728Li             2\n",
       "745d              2\n",
       "530Li             2\n",
       "Electro           2\n",
       "218d              1\n",
       "520               1\n",
       "524d              1\n",
       "M135i             1\n",
       "315               1\n",
       "635i              1\n",
       "760i              1\n",
       "840i              1\n",
       "123d              1\n",
       "M235i             1\n",
       "620d              1\n",
       "725d              1\n",
       "518               1\n",
       "40e               1\n",
       "535Li             1\n",
       "733i              1\n",
       "CS                1\n",
       "320xd             1\n",
       "525E              1\n",
       "sDrive20i         1\n",
       "Name: style, dtype: int64"
      ]
     },
     "metadata": {},
     "output_type": "display_data"
    }
   ],
   "source": [
    "column_stats(cars['style'])"
   ]
  },
  {
   "cell_type": "markdown",
   "metadata": {},
   "source": [
    "# body"
   ]
  },
  {
   "cell_type": "code",
   "execution_count": 7,
   "metadata": {
    "scrolled": true
   },
   "outputs": [
    {
     "data": {
      "text/plain": [
       "count            6034\n",
       "unique             10\n",
       "top       внедорожник\n",
       "freq             2623\n",
       "Name: body, dtype: object"
      ]
     },
     "metadata": {},
     "output_type": "display_data"
    },
    {
     "data": {
      "text/plain": [
       "внедорожник     2623\n",
       "седан           2582\n",
       "хэтчбек          332\n",
       "купе             239\n",
       "лифтбек          119\n",
       "универсал         88\n",
       "кабриолет         34\n",
       "родстер            8\n",
       "компактвэн         6\n",
       "купе-хардтоп       3\n",
       "Name: body, dtype: int64"
      ]
     },
     "metadata": {},
     "output_type": "display_data"
    }
   ],
   "source": [
    "column_stats(cars['body'])"
   ]
  },
  {
   "cell_type": "code",
   "execution_count": 8,
   "metadata": {
    "scrolled": true
   },
   "outputs": [],
   "source": [
    "params = {'внедорожник': 'offroad',\n",
    "          'седан': 'sedan',\n",
    "          'хэтчбек': 'hatchback',\n",
    "          'купе': 'coupe',\n",
    "          'лифтбек': 'liftback',\n",
    "          'универсал': 'estate',\n",
    "          'кабриолет': 'cabriolet',\n",
    "          'родстер': 'roadster',\n",
    "          'компактвэн': 'compact',\n",
    "          'купе-хардтоп': 'coupe_hard'}\n",
    "\n",
    "cars = onehot_encode(cars, cars[['body']], params, rename=True)\n",
    "cars.drop(columns=['body'], inplace=True)"
   ]
  },
  {
   "cell_type": "markdown",
   "metadata": {},
   "source": [
    "# color"
   ]
  },
  {
   "cell_type": "code",
   "execution_count": 9,
   "metadata": {},
   "outputs": [
    {
     "data": {
      "text/plain": [
       "count       6034\n",
       "unique        16\n",
       "top       чёрный\n",
       "freq        2379\n",
       "Name: color, dtype: object"
      ]
     },
     "metadata": {},
     "output_type": "display_data"
    },
    {
     "data": {
      "text/plain": [
       "чёрный         2379\n",
       "белый          1035\n",
       "синий           763\n",
       "серый           669\n",
       "серебристый     425\n",
       "коричневый      254\n",
       "красный         177\n",
       "зелёный         106\n",
       "бежевый          57\n",
       "голубой          49\n",
       "пурпурный        36\n",
       "оранжевый        31\n",
       "золотистый       29\n",
       "фиолетовый       20\n",
       "жёлтый            3\n",
       "розовый           1\n",
       "Name: color, dtype: int64"
      ]
     },
     "metadata": {},
     "output_type": "display_data"
    }
   ],
   "source": [
    "column_stats(cars['color'])"
   ]
  },
  {
   "cell_type": "markdown",
   "metadata": {},
   "source": [
    "Резделим цвет на две категории:\n",
    "    \n",
    "    1) Белыйб, черный, серый, серебристый, синий\n",
    "    2) Остальные цвета "
   ]
  },
  {
   "cell_type": "code",
   "execution_count": 10,
   "metadata": {},
   "outputs": [],
   "source": [
    "cars['color'] = cars['color'].apply(lambda x: 'main_color' if x in ['чёрный', 'белый', 'синий', 'серый', 'серебристый'] else 'other_color')"
   ]
  },
  {
   "cell_type": "code",
   "execution_count": 11,
   "metadata": {},
   "outputs": [],
   "source": [
    "cars = onehot_encode(cars, cars[['color']])\n",
    "cars.drop(columns=['color'], inplace=True)"
   ]
  },
  {
   "cell_type": "markdown",
   "metadata": {},
   "source": [
    "# fuel"
   ]
  },
  {
   "cell_type": "code",
   "execution_count": 12,
   "metadata": {},
   "outputs": [
    {
     "data": {
      "text/plain": [
       "count        6034\n",
       "unique          5\n",
       "top        Бензин\n",
       "freq         3993\n",
       "Name: fuel, dtype: object"
      ]
     },
     "metadata": {},
     "output_type": "display_data"
    },
    {
     "data": {
      "text/plain": [
       " Бензин                                3993\n",
       " Дизель                                2004\n",
       " Бензин, газобаллонное оборудование      21\n",
       " Гибрид                                  14\n",
       " Электро                                  2\n",
       "Name: fuel, dtype: int64"
      ]
     },
     "metadata": {},
     "output_type": "display_data"
    }
   ],
   "source": [
    "column_stats(cars['fuel'])"
   ]
  },
  {
   "cell_type": "code",
   "execution_count": 13,
   "metadata": {},
   "outputs": [],
   "source": [
    "params={' Бензин': 'gasoline',\n",
    "        ' Дизель': 'diesel',\n",
    "        ' Бензин, газобаллонное оборудование': 'gasoline_gas',\n",
    "        ' Гибрид': 'hybrid',\n",
    "        ' Электро': 'electro'}\n",
    "\n",
    "cars = onehot_encode(cars, cars[['fuel']], params, rename=True)\n",
    "cars.drop(columns=['fuel'], inplace=True)"
   ]
  },
  {
   "cell_type": "markdown",
   "metadata": {},
   "source": [
    "# doors"
   ]
  },
  {
   "cell_type": "code",
   "execution_count": 14,
   "metadata": {},
   "outputs": [
    {
     "data": {
      "text/plain": [
       "count    6034.000000\n",
       "mean        4.425920\n",
       "std         0.741087\n",
       "min         2.000000\n",
       "25%         4.000000\n",
       "50%         5.000000\n",
       "75%         5.000000\n",
       "max         5.000000\n",
       "Name: doors, dtype: float64"
      ]
     },
     "metadata": {},
     "output_type": "display_data"
    },
    {
     "data": {
      "image/png": "[encoded data removed]",
      "text/plain": [
       "<Figure size 576x360 with 1 Axes>"
      ]
     },
     "metadata": {
      "needs_background": "light"
     },
     "output_type": "display_data"
    }
   ],
   "source": [
    "column_stats(cars['doors'])"
   ]
  },
  {
   "cell_type": "markdown",
   "metadata": {},
   "source": [
    "# production_date"
   ]
  },
  {
   "cell_type": "code",
   "execution_count": 15,
   "metadata": {},
   "outputs": [
    {
     "data": {
      "text/plain": [
       "count    6034.000000\n",
       "mean     2009.891448\n",
       "std         6.467349\n",
       "min      1975.000000\n",
       "25%      2007.000000\n",
       "50%      2011.000000\n",
       "75%      2014.000000\n",
       "max      2020.000000\n",
       "Name: production_date, dtype: float64"
      ]
     },
     "metadata": {},
     "output_type": "display_data"
    },
    {
     "data": {
      "image/png": "[encoded data removed]",
      "text/plain": [
       "<Figure size 576x360 with 1 Axes>"
      ]
     },
     "metadata": {
      "needs_background": "light"
     },
     "output_type": "display_data"
    }
   ],
   "source": [
    "column_stats(cars['production_date'])"
   ]
  },
  {
   "cell_type": "code",
   "execution_count": 16,
   "metadata": {},
   "outputs": [],
   "source": [
    "cars['years_in_use'] = cars['production_date'].apply(lambda x: datetime.now().year-x)"
   ]
  },
  {
   "cell_type": "code",
   "execution_count": 17,
   "metadata": {},
   "outputs": [
    {
     "data": {
      "text/html": [
       "<div>\n",
       "<style scoped>\n",
       "    .dataframe tbody tr th:only-of-type {\n",
       "        vertical-align: middle;\n",
       "    }\n",
       "\n",
       "    .dataframe tbody tr th {\n",
       "        vertical-align: top;\n",
       "    }\n",
       "\n",
       "    .dataframe thead th {\n",
       "        text-align: right;\n",
       "    }\n",
       "</style>\n",
       "<table border=\"1\" class=\"dataframe\">\n",
       "  <thead>\n",
       "    <tr style=\"text-align: right;\">\n",
       "      <th></th>\n",
       "      <th>Unnamed: 0</th>\n",
       "      <th>test</th>\n",
       "      <th>style</th>\n",
       "      <th>model_date</th>\n",
       "      <th>doors</th>\n",
       "      <th>production_date</th>\n",
       "      <th>transmission</th>\n",
       "      <th>engine_displacement</th>\n",
       "      <th>engine_power</th>\n",
       "      <th>mileage</th>\n",
       "      <th>drive_type</th>\n",
       "      <th>wheel</th>\n",
       "      <th>condition</th>\n",
       "      <th>owners</th>\n",
       "      <th>vehicle_title</th>\n",
       "      <th>description</th>\n",
       "      <th>features</th>\n",
       "      <th>ownership</th>\n",
       "      <th>price</th>\n",
       "      <th>offroad</th>\n",
       "      <th>cabriolet</th>\n",
       "      <th>compact</th>\n",
       "      <th>coupe</th>\n",
       "      <th>coupe_hard</th>\n",
       "      <th>liftback</th>\n",
       "      <th>roadster</th>\n",
       "      <th>sedan</th>\n",
       "      <th>estate</th>\n",
       "      <th>hatchback</th>\n",
       "      <th>main_color</th>\n",
       "      <th>other_color</th>\n",
       "      <th>gasoline</th>\n",
       "      <th>gasoline_gas</th>\n",
       "      <th>hybrid</th>\n",
       "      <th>diesel</th>\n",
       "      <th>electro</th>\n",
       "      <th>years_in_use</th>\n",
       "    </tr>\n",
       "  </thead>\n",
       "  <tbody>\n",
       "    <tr>\n",
       "      <th>0</th>\n",
       "      <td>0</td>\n",
       "      <td>0</td>\n",
       "      <td>525E</td>\n",
       "      <td>Unknown</td>\n",
       "      <td>4</td>\n",
       "      <td>1986</td>\n",
       "      <td>механическая</td>\n",
       "      <td>2.7</td>\n",
       "      <td>125</td>\n",
       "      <td>220000.0</td>\n",
       "      <td>задний</td>\n",
       "      <td>Левый</td>\n",
       "      <td>Не требует ремонта</td>\n",
       "      <td>2</td>\n",
       "      <td>Оригинал</td>\n",
       "      <td>Unknown</td>\n",
       "      <td>Unknown</td>\n",
       "      <td>NaN</td>\n",
       "      <td>50000.0</td>\n",
       "      <td>0.0</td>\n",
       "      <td>0.0</td>\n",
       "      <td>0.0</td>\n",
       "      <td>0.0</td>\n",
       "      <td>0.0</td>\n",
       "      <td>0.0</td>\n",
       "      <td>0.0</td>\n",
       "      <td>1.0</td>\n",
       "      <td>0.0</td>\n",
       "      <td>0.0</td>\n",
       "      <td>0.0</td>\n",
       "      <td>1.0</td>\n",
       "      <td>1.0</td>\n",
       "      <td>0.0</td>\n",
       "      <td>0.0</td>\n",
       "      <td>0.0</td>\n",
       "      <td>0.0</td>\n",
       "      <td>34</td>\n",
       "    </tr>\n",
       "    <tr>\n",
       "      <th>1</th>\n",
       "      <td>1</td>\n",
       "      <td>0</td>\n",
       "      <td>525i</td>\n",
       "      <td>Unknown</td>\n",
       "      <td>4</td>\n",
       "      <td>1988</td>\n",
       "      <td>механическая</td>\n",
       "      <td>2.5</td>\n",
       "      <td>170</td>\n",
       "      <td>300000.0</td>\n",
       "      <td>задний</td>\n",
       "      <td>Левый</td>\n",
       "      <td>Не требует ремонта</td>\n",
       "      <td>3</td>\n",
       "      <td>Дубликат</td>\n",
       "      <td>Unknown</td>\n",
       "      <td>Unknown</td>\n",
       "      <td>NaN</td>\n",
       "      <td>70000.0</td>\n",
       "      <td>0.0</td>\n",
       "      <td>0.0</td>\n",
       "      <td>0.0</td>\n",
       "      <td>0.0</td>\n",
       "      <td>0.0</td>\n",
       "      <td>0.0</td>\n",
       "      <td>0.0</td>\n",
       "      <td>1.0</td>\n",
       "      <td>0.0</td>\n",
       "      <td>0.0</td>\n",
       "      <td>1.0</td>\n",
       "      <td>0.0</td>\n",
       "      <td>1.0</td>\n",
       "      <td>0.0</td>\n",
       "      <td>0.0</td>\n",
       "      <td>0.0</td>\n",
       "      <td>0.0</td>\n",
       "      <td>32</td>\n",
       "    </tr>\n",
       "    <tr>\n",
       "      <th>2</th>\n",
       "      <td>2</td>\n",
       "      <td>0</td>\n",
       "      <td>318i</td>\n",
       "      <td>Unknown</td>\n",
       "      <td>5</td>\n",
       "      <td>1994</td>\n",
       "      <td>механическая</td>\n",
       "      <td>1.8</td>\n",
       "      <td>115</td>\n",
       "      <td>350000.0</td>\n",
       "      <td>задний</td>\n",
       "      <td>Левый</td>\n",
       "      <td>Не требует ремонта</td>\n",
       "      <td>3</td>\n",
       "      <td>Дубликат</td>\n",
       "      <td>Unknown</td>\n",
       "      <td>Unknown</td>\n",
       "      <td>9 месяцев</td>\n",
       "      <td>70000.0</td>\n",
       "      <td>0.0</td>\n",
       "      <td>0.0</td>\n",
       "      <td>0.0</td>\n",
       "      <td>0.0</td>\n",
       "      <td>0.0</td>\n",
       "      <td>0.0</td>\n",
       "      <td>0.0</td>\n",
       "      <td>1.0</td>\n",
       "      <td>0.0</td>\n",
       "      <td>0.0</td>\n",
       "      <td>0.0</td>\n",
       "      <td>1.0</td>\n",
       "      <td>1.0</td>\n",
       "      <td>0.0</td>\n",
       "      <td>0.0</td>\n",
       "      <td>0.0</td>\n",
       "      <td>0.0</td>\n",
       "      <td>26</td>\n",
       "    </tr>\n",
       "    <tr>\n",
       "      <th>3</th>\n",
       "      <td>3</td>\n",
       "      <td>0</td>\n",
       "      <td>520i</td>\n",
       "      <td>Unknown</td>\n",
       "      <td>4</td>\n",
       "      <td>1992</td>\n",
       "      <td>механическая</td>\n",
       "      <td>2.0</td>\n",
       "      <td>150</td>\n",
       "      <td>100000.0</td>\n",
       "      <td>задний</td>\n",
       "      <td>Левый</td>\n",
       "      <td>Не требует ремонта</td>\n",
       "      <td>3</td>\n",
       "      <td>Оригинал</td>\n",
       "      <td>Unknown</td>\n",
       "      <td>Unknown</td>\n",
       "      <td>NaN</td>\n",
       "      <td>70000.0</td>\n",
       "      <td>0.0</td>\n",
       "      <td>0.0</td>\n",
       "      <td>0.0</td>\n",
       "      <td>0.0</td>\n",
       "      <td>0.0</td>\n",
       "      <td>0.0</td>\n",
       "      <td>0.0</td>\n",
       "      <td>1.0</td>\n",
       "      <td>0.0</td>\n",
       "      <td>0.0</td>\n",
       "      <td>1.0</td>\n",
       "      <td>0.0</td>\n",
       "      <td>1.0</td>\n",
       "      <td>0.0</td>\n",
       "      <td>0.0</td>\n",
       "      <td>0.0</td>\n",
       "      <td>0.0</td>\n",
       "      <td>28</td>\n",
       "    </tr>\n",
       "    <tr>\n",
       "      <th>4</th>\n",
       "      <td>4</td>\n",
       "      <td>0</td>\n",
       "      <td>520i</td>\n",
       "      <td>Unknown</td>\n",
       "      <td>4</td>\n",
       "      <td>1992</td>\n",
       "      <td>механическая</td>\n",
       "      <td>2.0</td>\n",
       "      <td>150</td>\n",
       "      <td>250000.0</td>\n",
       "      <td>задний</td>\n",
       "      <td>Левый</td>\n",
       "      <td>Не требует ремонта</td>\n",
       "      <td>3</td>\n",
       "      <td>Дубликат</td>\n",
       "      <td>Unknown</td>\n",
       "      <td>['Электростеклоподъёмники задние', 'Электросте...</td>\n",
       "      <td>5 месяцев</td>\n",
       "      <td>75000.0</td>\n",
       "      <td>0.0</td>\n",
       "      <td>0.0</td>\n",
       "      <td>0.0</td>\n",
       "      <td>0.0</td>\n",
       "      <td>0.0</td>\n",
       "      <td>0.0</td>\n",
       "      <td>0.0</td>\n",
       "      <td>1.0</td>\n",
       "      <td>0.0</td>\n",
       "      <td>0.0</td>\n",
       "      <td>1.0</td>\n",
       "      <td>0.0</td>\n",
       "      <td>1.0</td>\n",
       "      <td>0.0</td>\n",
       "      <td>0.0</td>\n",
       "      <td>0.0</td>\n",
       "      <td>0.0</td>\n",
       "      <td>28</td>\n",
       "    </tr>\n",
       "    <tr>\n",
       "      <th>...</th>\n",
       "      <td>...</td>\n",
       "      <td>...</td>\n",
       "      <td>...</td>\n",
       "      <td>...</td>\n",
       "      <td>...</td>\n",
       "      <td>...</td>\n",
       "      <td>...</td>\n",
       "      <td>...</td>\n",
       "      <td>...</td>\n",
       "      <td>...</td>\n",
       "      <td>...</td>\n",
       "      <td>...</td>\n",
       "      <td>...</td>\n",
       "      <td>...</td>\n",
       "      <td>...</td>\n",
       "      <td>...</td>\n",
       "      <td>...</td>\n",
       "      <td>...</td>\n",
       "      <td>...</td>\n",
       "      <td>...</td>\n",
       "      <td>...</td>\n",
       "      <td>...</td>\n",
       "      <td>...</td>\n",
       "      <td>...</td>\n",
       "      <td>...</td>\n",
       "      <td>...</td>\n",
       "      <td>...</td>\n",
       "      <td>...</td>\n",
       "      <td>...</td>\n",
       "      <td>...</td>\n",
       "      <td>...</td>\n",
       "      <td>...</td>\n",
       "      <td>...</td>\n",
       "      <td>...</td>\n",
       "      <td>...</td>\n",
       "      <td>...</td>\n",
       "      <td>...</td>\n",
       "    </tr>\n",
       "    <tr>\n",
       "      <th>6029</th>\n",
       "      <td>6029</td>\n",
       "      <td>0</td>\n",
       "      <td>M50i</td>\n",
       "      <td>Unknown</td>\n",
       "      <td>5</td>\n",
       "      <td>2020</td>\n",
       "      <td>автоматическая</td>\n",
       "      <td>4.4</td>\n",
       "      <td>530</td>\n",
       "      <td>120.0</td>\n",
       "      <td>полный</td>\n",
       "      <td>Левый</td>\n",
       "      <td>Не требует ремонта</td>\n",
       "      <td>1</td>\n",
       "      <td>Оригинал</td>\n",
       "      <td>Unknown</td>\n",
       "      <td>['Круиз-контроль', 'Мультифункциональное рулев...</td>\n",
       "      <td>5 месяцев</td>\n",
       "      <td>10499999.0</td>\n",
       "      <td>1.0</td>\n",
       "      <td>0.0</td>\n",
       "      <td>0.0</td>\n",
       "      <td>0.0</td>\n",
       "      <td>0.0</td>\n",
       "      <td>0.0</td>\n",
       "      <td>0.0</td>\n",
       "      <td>0.0</td>\n",
       "      <td>0.0</td>\n",
       "      <td>0.0</td>\n",
       "      <td>1.0</td>\n",
       "      <td>0.0</td>\n",
       "      <td>1.0</td>\n",
       "      <td>0.0</td>\n",
       "      <td>0.0</td>\n",
       "      <td>0.0</td>\n",
       "      <td>0.0</td>\n",
       "      <td>0</td>\n",
       "    </tr>\n",
       "    <tr>\n",
       "      <th>6030</th>\n",
       "      <td>6030</td>\n",
       "      <td>0</td>\n",
       "      <td>1.5hyb</td>\n",
       "      <td>Unknown</td>\n",
       "      <td>2</td>\n",
       "      <td>2019</td>\n",
       "      <td>автоматическая</td>\n",
       "      <td>1.5</td>\n",
       "      <td>231</td>\n",
       "      <td>720.0</td>\n",
       "      <td>полный</td>\n",
       "      <td>Левый</td>\n",
       "      <td>Не требует ремонта</td>\n",
       "      <td>1</td>\n",
       "      <td>Оригинал</td>\n",
       "      <td>Unknown</td>\n",
       "      <td>['Круиз-контроль', 'Система «старт-стоп»', 'Пр...</td>\n",
       "      <td>NaN</td>\n",
       "      <td>10500888.0</td>\n",
       "      <td>0.0</td>\n",
       "      <td>0.0</td>\n",
       "      <td>0.0</td>\n",
       "      <td>0.0</td>\n",
       "      <td>0.0</td>\n",
       "      <td>0.0</td>\n",
       "      <td>1.0</td>\n",
       "      <td>0.0</td>\n",
       "      <td>0.0</td>\n",
       "      <td>0.0</td>\n",
       "      <td>1.0</td>\n",
       "      <td>0.0</td>\n",
       "      <td>0.0</td>\n",
       "      <td>0.0</td>\n",
       "      <td>1.0</td>\n",
       "      <td>0.0</td>\n",
       "      <td>0.0</td>\n",
       "      <td>1</td>\n",
       "    </tr>\n",
       "    <tr>\n",
       "      <th>6031</th>\n",
       "      <td>6031</td>\n",
       "      <td>0</td>\n",
       "      <td>M50d</td>\n",
       "      <td>Unknown</td>\n",
       "      <td>5</td>\n",
       "      <td>2020</td>\n",
       "      <td>автоматическая</td>\n",
       "      <td>3.0</td>\n",
       "      <td>400</td>\n",
       "      <td>18.0</td>\n",
       "      <td>полный</td>\n",
       "      <td>Левый</td>\n",
       "      <td>Не требует ремонта</td>\n",
       "      <td>1</td>\n",
       "      <td>Оригинал</td>\n",
       "      <td>Unknown</td>\n",
       "      <td>['Круиз-контроль', 'Мультифункциональное рулев...</td>\n",
       "      <td>NaN</td>\n",
       "      <td>11093198.0</td>\n",
       "      <td>1.0</td>\n",
       "      <td>0.0</td>\n",
       "      <td>0.0</td>\n",
       "      <td>0.0</td>\n",
       "      <td>0.0</td>\n",
       "      <td>0.0</td>\n",
       "      <td>0.0</td>\n",
       "      <td>0.0</td>\n",
       "      <td>0.0</td>\n",
       "      <td>0.0</td>\n",
       "      <td>1.0</td>\n",
       "      <td>0.0</td>\n",
       "      <td>0.0</td>\n",
       "      <td>0.0</td>\n",
       "      <td>0.0</td>\n",
       "      <td>1.0</td>\n",
       "      <td>0.0</td>\n",
       "      <td>0</td>\n",
       "    </tr>\n",
       "    <tr>\n",
       "      <th>6032</th>\n",
       "      <td>6032</td>\n",
       "      <td>0</td>\n",
       "      <td>750Ld</td>\n",
       "      <td>Unknown</td>\n",
       "      <td>4</td>\n",
       "      <td>2019</td>\n",
       "      <td>автоматическая</td>\n",
       "      <td>3.0</td>\n",
       "      <td>400</td>\n",
       "      <td>31.0</td>\n",
       "      <td>полный</td>\n",
       "      <td>Левый</td>\n",
       "      <td>Не требует ремонта</td>\n",
       "      <td>1</td>\n",
       "      <td>Оригинал</td>\n",
       "      <td>Unknown</td>\n",
       "      <td>['Защита картера', 'Обвес кузова', 'Алькантара...</td>\n",
       "      <td>NaN</td>\n",
       "      <td>12460000.0</td>\n",
       "      <td>0.0</td>\n",
       "      <td>0.0</td>\n",
       "      <td>0.0</td>\n",
       "      <td>0.0</td>\n",
       "      <td>0.0</td>\n",
       "      <td>0.0</td>\n",
       "      <td>0.0</td>\n",
       "      <td>1.0</td>\n",
       "      <td>0.0</td>\n",
       "      <td>0.0</td>\n",
       "      <td>1.0</td>\n",
       "      <td>0.0</td>\n",
       "      <td>0.0</td>\n",
       "      <td>0.0</td>\n",
       "      <td>0.0</td>\n",
       "      <td>1.0</td>\n",
       "      <td>0.0</td>\n",
       "      <td>1</td>\n",
       "    </tr>\n",
       "    <tr>\n",
       "      <th>6033</th>\n",
       "      <td>6033</td>\n",
       "      <td>0</td>\n",
       "      <td>M760Li</td>\n",
       "      <td>Unknown</td>\n",
       "      <td>4</td>\n",
       "      <td>2019</td>\n",
       "      <td>автоматическая</td>\n",
       "      <td>6.6</td>\n",
       "      <td>609</td>\n",
       "      <td>7.0</td>\n",
       "      <td>полный</td>\n",
       "      <td>Левый</td>\n",
       "      <td>Не требует ремонта</td>\n",
       "      <td>1</td>\n",
       "      <td>Оригинал</td>\n",
       "      <td>Unknown</td>\n",
       "      <td>['Солнцезащитная шторка на заднем стекле', 'То...</td>\n",
       "      <td>NaN</td>\n",
       "      <td>12689999.0</td>\n",
       "      <td>0.0</td>\n",
       "      <td>0.0</td>\n",
       "      <td>0.0</td>\n",
       "      <td>0.0</td>\n",
       "      <td>0.0</td>\n",
       "      <td>0.0</td>\n",
       "      <td>0.0</td>\n",
       "      <td>1.0</td>\n",
       "      <td>0.0</td>\n",
       "      <td>0.0</td>\n",
       "      <td>1.0</td>\n",
       "      <td>0.0</td>\n",
       "      <td>1.0</td>\n",
       "      <td>0.0</td>\n",
       "      <td>0.0</td>\n",
       "      <td>0.0</td>\n",
       "      <td>0.0</td>\n",
       "      <td>1</td>\n",
       "    </tr>\n",
       "  </tbody>\n",
       "</table>\n",
       "<p>6034 rows × 37 columns</p>\n",
       "</div>"
      ],
      "text/plain": [
       "      Unnamed: 0  test   style model_date  doors  production_date  \\\n",
       "0              0     0    525E    Unknown      4             1986   \n",
       "1              1     0    525i    Unknown      4             1988   \n",
       "2              2     0    318i    Unknown      5             1994   \n",
       "3              3     0    520i    Unknown      4             1992   \n",
       "4              4     0    520i    Unknown      4             1992   \n",
       "...          ...   ...     ...        ...    ...              ...   \n",
       "6029        6029     0    M50i    Unknown      5             2020   \n",
       "6030        6030     0  1.5hyb    Unknown      2             2019   \n",
       "6031        6031     0    M50d    Unknown      5             2020   \n",
       "6032        6032     0   750Ld    Unknown      4             2019   \n",
       "6033        6033     0  M760Li    Unknown      4             2019   \n",
       "\n",
       "        transmission  engine_displacement  engine_power   mileage drive_type  \\\n",
       "0       механическая                  2.7           125  220000.0     задний   \n",
       "1       механическая                  2.5           170  300000.0     задний   \n",
       "2       механическая                  1.8           115  350000.0     задний   \n",
       "3       механическая                  2.0           150  100000.0     задний   \n",
       "4       механическая                  2.0           150  250000.0     задний   \n",
       "...              ...                  ...           ...       ...        ...   \n",
       "6029  автоматическая                  4.4           530     120.0     полный   \n",
       "6030  автоматическая                  1.5           231     720.0     полный   \n",
       "6031  автоматическая                  3.0           400      18.0     полный   \n",
       "6032  автоматическая                  3.0           400      31.0     полный   \n",
       "6033  автоматическая                  6.6           609       7.0     полный   \n",
       "\n",
       "      wheel           condition  owners vehicle_title description  \\\n",
       "0     Левый  Не требует ремонта       2      Оригинал     Unknown   \n",
       "1     Левый  Не требует ремонта       3      Дубликат     Unknown   \n",
       "2     Левый  Не требует ремонта       3      Дубликат     Unknown   \n",
       "3     Левый  Не требует ремонта       3      Оригинал     Unknown   \n",
       "4     Левый  Не требует ремонта       3      Дубликат     Unknown   \n",
       "...     ...                 ...     ...           ...         ...   \n",
       "6029  Левый  Не требует ремонта       1      Оригинал     Unknown   \n",
       "6030  Левый  Не требует ремонта       1      Оригинал     Unknown   \n",
       "6031  Левый  Не требует ремонта       1      Оригинал     Unknown   \n",
       "6032  Левый  Не требует ремонта       1      Оригинал     Unknown   \n",
       "6033  Левый  Не требует ремонта       1      Оригинал     Unknown   \n",
       "\n",
       "                                               features  ownership  \\\n",
       "0                                               Unknown        NaN   \n",
       "1                                               Unknown        NaN   \n",
       "2                                               Unknown  9 месяцев   \n",
       "3                                               Unknown        NaN   \n",
       "4     ['Электростеклоподъёмники задние', 'Электросте...  5 месяцев   \n",
       "...                                                 ...        ...   \n",
       "6029  ['Круиз-контроль', 'Мультифункциональное рулев...  5 месяцев   \n",
       "6030  ['Круиз-контроль', 'Система «старт-стоп»', 'Пр...        NaN   \n",
       "6031  ['Круиз-контроль', 'Мультифункциональное рулев...        NaN   \n",
       "6032  ['Защита картера', 'Обвес кузова', 'Алькантара...        NaN   \n",
       "6033  ['Солнцезащитная шторка на заднем стекле', 'То...        NaN   \n",
       "\n",
       "           price  offroad  cabriolet  compact  coupe  coupe_hard  liftback  \\\n",
       "0        50000.0      0.0        0.0      0.0    0.0         0.0       0.0   \n",
       "1        70000.0      0.0        0.0      0.0    0.0         0.0       0.0   \n",
       "2        70000.0      0.0        0.0      0.0    0.0         0.0       0.0   \n",
       "3        70000.0      0.0        0.0      0.0    0.0         0.0       0.0   \n",
       "4        75000.0      0.0        0.0      0.0    0.0         0.0       0.0   \n",
       "...          ...      ...        ...      ...    ...         ...       ...   \n",
       "6029  10499999.0      1.0        0.0      0.0    0.0         0.0       0.0   \n",
       "6030  10500888.0      0.0        0.0      0.0    0.0         0.0       0.0   \n",
       "6031  11093198.0      1.0        0.0      0.0    0.0         0.0       0.0   \n",
       "6032  12460000.0      0.0        0.0      0.0    0.0         0.0       0.0   \n",
       "6033  12689999.0      0.0        0.0      0.0    0.0         0.0       0.0   \n",
       "\n",
       "      roadster  sedan  estate  hatchback  main_color  other_color  gasoline  \\\n",
       "0          0.0    1.0     0.0        0.0         0.0          1.0       1.0   \n",
       "1          0.0    1.0     0.0        0.0         1.0          0.0       1.0   \n",
       "2          0.0    1.0     0.0        0.0         0.0          1.0       1.0   \n",
       "3          0.0    1.0     0.0        0.0         1.0          0.0       1.0   \n",
       "4          0.0    1.0     0.0        0.0         1.0          0.0       1.0   \n",
       "...        ...    ...     ...        ...         ...          ...       ...   \n",
       "6029       0.0    0.0     0.0        0.0         1.0          0.0       1.0   \n",
       "6030       1.0    0.0     0.0        0.0         1.0          0.0       0.0   \n",
       "6031       0.0    0.0     0.0        0.0         1.0          0.0       0.0   \n",
       "6032       0.0    1.0     0.0        0.0         1.0          0.0       0.0   \n",
       "6033       0.0    1.0     0.0        0.0         1.0          0.0       1.0   \n",
       "\n",
       "      gasoline_gas  hybrid  diesel  electro  years_in_use  \n",
       "0              0.0     0.0     0.0      0.0            34  \n",
       "1              0.0     0.0     0.0      0.0            32  \n",
       "2              0.0     0.0     0.0      0.0            26  \n",
       "3              0.0     0.0     0.0      0.0            28  \n",
       "4              0.0     0.0     0.0      0.0            28  \n",
       "...            ...     ...     ...      ...           ...  \n",
       "6029           0.0     0.0     0.0      0.0             0  \n",
       "6030           0.0     1.0     0.0      0.0             1  \n",
       "6031           0.0     0.0     1.0      0.0             0  \n",
       "6032           0.0     0.0     1.0      0.0             1  \n",
       "6033           0.0     0.0     0.0      0.0             1  \n",
       "\n",
       "[6034 rows x 37 columns]"
      ]
     },
     "execution_count": 17,
     "metadata": {},
     "output_type": "execute_result"
    }
   ],
   "source": [
    "cars"
   ]
  },
  {
   "cell_type": "markdown",
   "metadata": {},
   "source": [
    "# transmission"
   ]
  },
  {
   "cell_type": "code",
   "execution_count": 18,
   "metadata": {},
   "outputs": [
    {
     "data": {
      "text/plain": [
       "count               6034\n",
       "unique                 3\n",
       "top       автоматическая\n",
       "freq                5585\n",
       "Name: transmission, dtype: object"
      ]
     },
     "metadata": {},
     "output_type": "display_data"
    },
    {
     "data": {
      "text/plain": [
       "автоматическая      5585\n",
       "механическая         430\n",
       "роботизированная      19\n",
       "Name: transmission, dtype: int64"
      ]
     },
     "metadata": {},
     "output_type": "display_data"
    }
   ],
   "source": [
    "column_stats(cars['transmission'])"
   ]
  },
  {
   "cell_type": "code",
   "execution_count": 19,
   "metadata": {},
   "outputs": [],
   "source": [
    "params={'автоматическая': 'AT',\n",
    "        'механическая': 'MT',\n",
    "        'роботизированная': 'AM'}\n",
    "\n",
    "cars = onehot_encode(cars, cars[['transmission']], params, rename=True)\n",
    "cars.drop(columns=['transmission'], inplace=True)"
   ]
  },
  {
   "cell_type": "markdown",
   "metadata": {},
   "source": [
    "# engine_displacement"
   ]
  },
  {
   "cell_type": "code",
   "execution_count": 20,
   "metadata": {},
   "outputs": [
    {
     "data": {
      "text/plain": [
       "count    6034.000000\n",
       "mean        2.664402\n",
       "std         3.141855\n",
       "min         0.700000\n",
       "25%         2.000000\n",
       "50%         2.500000\n",
       "75%         3.000000\n",
       "max       170.000000\n",
       "Name: engine_displacement, dtype: float64"
      ]
     },
     "metadata": {},
     "output_type": "display_data"
    },
    {
     "data": {
      "image/png": "[encoded data removed]",
      "text/plain": [
       "<Figure size 576x360 with 1 Axes>"
      ]
     },
     "metadata": {
      "needs_background": "light"
     },
     "output_type": "display_data"
    }
   ],
   "source": [
    "column_stats(cars['engine_displacement'])"
   ]
  },
  {
   "cell_type": "markdown",
   "metadata": {},
   "source": [
    "# engine_power"
   ]
  },
  {
   "cell_type": "code",
   "execution_count": 21,
   "metadata": {},
   "outputs": [
    {
     "data": {
      "text/plain": [
       "count    6034.000000\n",
       "mean      228.336924\n",
       "std        72.691312\n",
       "min        75.000000\n",
       "25%       184.000000\n",
       "50%       218.000000\n",
       "75%       265.000000\n",
       "max       610.000000\n",
       "Name: engine_power, dtype: float64"
      ]
     },
     "metadata": {},
     "output_type": "display_data"
    },
    {
     "data": {
      "image/png": "[encoded data removed]",
      "text/plain": [
       "<Figure size 576x360 with 1 Axes>"
      ]
     },
     "metadata": {
      "needs_background": "light"
     },
     "output_type": "display_data"
    }
   ],
   "source": [
    "column_stats(cars['engine_power'])"
   ]
  },
  {
   "cell_type": "code",
   "execution_count": 22,
   "metadata": {},
   "outputs": [],
   "source": [
    "def tax(data):\n",
    "    \n",
    "    if data<=100:\n",
    "        return float(data*12)\n",
    "    \n",
    "    elif data>100 and data<=125:\n",
    "        return float(data*25)\n",
    "    \n",
    "    elif data>125 and data<=150:\n",
    "        return float(data*35)\n",
    "    \n",
    "    elif data>150 and data<=175:\n",
    "        return float(data*45)\n",
    "    \n",
    "    elif data>175 and data<=200:\n",
    "        return float(data*50)\n",
    "    \n",
    "    elif data>200 and data<=225:\n",
    "        return float(data*65)\n",
    "    \n",
    "    elif data>225 and data<=250:\n",
    "        return float(data*75)\n",
    "        \n",
    "    elif data>250:\n",
    "        return float(data*150)\n",
    "    \n",
    "cars['tax'] = cars['engine_power'].apply(tax)        "
   ]
  },
  {
   "cell_type": "code",
   "execution_count": 23,
   "metadata": {},
   "outputs": [],
   "source": [
    "def tax_per_horse(data):\n",
    "    \n",
    "    if data<=100:\n",
    "        return 12\n",
    "    \n",
    "    elif data>100 and data<=125:\n",
    "        return 25\n",
    "    \n",
    "    elif data>125 and data<=150:\n",
    "        return 35\n",
    "    \n",
    "    elif data>150 and data<=175:\n",
    "        return 45\n",
    "    \n",
    "    elif data>175 and data<=200:\n",
    "        return 50\n",
    "    \n",
    "    elif data>200 and data<=225:\n",
    "        return 65\n",
    "    \n",
    "    elif data>225 and data<=250:\n",
    "        return 75\n",
    "        \n",
    "    elif data>250:\n",
    "        return 150\n",
    "    \n",
    "cars['tax_per_horse'] = cars['engine_power'].apply(tax_per_horse)"
   ]
  },
  {
   "cell_type": "markdown",
   "metadata": {},
   "source": [
    "# mileage"
   ]
  },
  {
   "cell_type": "code",
   "execution_count": 24,
   "metadata": {},
   "outputs": [
    {
     "data": {
      "text/plain": [
       "count      6034.000000\n",
       "mean     156151.225058\n",
       "std      100870.175862\n",
       "min           1.000000\n",
       "25%       85000.000000\n",
       "50%      140000.000000\n",
       "75%      210000.000000\n",
       "max      670000.000000\n",
       "Name: mileage, dtype: float64"
      ]
     },
     "metadata": {},
     "output_type": "display_data"
    },
    {
     "data": {
      "image/png": "[encoded data removed]",
      "text/plain": [
       "<Figure size 576x360 with 1 Axes>"
      ]
     },
     "metadata": {
      "needs_background": "light"
     },
     "output_type": "display_data"
    }
   ],
   "source": [
    "column_stats(cars['mileage'])"
   ]
  },
  {
   "cell_type": "code",
   "execution_count": 25,
   "metadata": {},
   "outputs": [],
   "source": [
    "cars['mileage_per_day'] = cars['mileage'] / (cars['years_in_use'] * 365) "
   ]
  },
  {
   "cell_type": "markdown",
   "metadata": {},
   "source": [
    "# drive_type"
   ]
  },
  {
   "cell_type": "code",
   "execution_count": 26,
   "metadata": {},
   "outputs": [
    {
     "data": {
      "text/plain": [
       "count       6034\n",
       "unique         3\n",
       "top       полный\n",
       "freq        3509\n",
       "Name: drive_type, dtype: object"
      ]
     },
     "metadata": {},
     "output_type": "display_data"
    },
    {
     "data": {
      "text/plain": [
       "полный      3509\n",
       "задний      2502\n",
       "передний      23\n",
       "Name: drive_type, dtype: int64"
      ]
     },
     "metadata": {},
     "output_type": "display_data"
    }
   ],
   "source": [
    "column_stats(cars['drive_type'])"
   ]
  },
  {
   "cell_type": "code",
   "execution_count": 27,
   "metadata": {},
   "outputs": [],
   "source": [
    "params={'полный': 'AWD',\n",
    "        'задний': 'RWD',\n",
    "        'передний': 'FWD'}\n",
    "\n",
    "cars = onehot_encode(cars, cars[['drive_type']], params, rename=True)\n",
    "cars.drop(columns=['drive_type'], inplace=True)"
   ]
  },
  {
   "cell_type": "markdown",
   "metadata": {},
   "source": [
    "# wheel"
   ]
  },
  {
   "cell_type": "code",
   "execution_count": 28,
   "metadata": {},
   "outputs": [
    {
     "data": {
      "text/plain": [
       "count      6034\n",
       "unique        2\n",
       "top       Левый\n",
       "freq       6033\n",
       "Name: wheel, dtype: object"
      ]
     },
     "metadata": {},
     "output_type": "display_data"
    },
    {
     "data": {
      "text/plain": [
       "Левый     6033\n",
       "Правый       1\n",
       "Name: wheel, dtype: int64"
      ]
     },
     "metadata": {},
     "output_type": "display_data"
    }
   ],
   "source": [
    "column_stats(cars['wheel'])"
   ]
  },
  {
   "cell_type": "markdown",
   "metadata": {},
   "source": [
    "# condition"
   ]
  },
  {
   "cell_type": "code",
   "execution_count": 29,
   "metadata": {},
   "outputs": [
    {
     "data": {
      "text/plain": [
       "count                   6034\n",
       "unique                     1\n",
       "top       Не требует ремонта\n",
       "freq                    6034\n",
       "Name: condition, dtype: object"
      ]
     },
     "metadata": {},
     "output_type": "display_data"
    },
    {
     "data": {
      "text/plain": [
       "Не требует ремонта    6034\n",
       "Name: condition, dtype: int64"
      ]
     },
     "metadata": {},
     "output_type": "display_data"
    }
   ],
   "source": [
    "column_stats(cars['condition'])"
   ]
  },
  {
   "cell_type": "markdown",
   "metadata": {},
   "source": [
    "# owners"
   ]
  },
  {
   "cell_type": "code",
   "execution_count": 30,
   "metadata": {},
   "outputs": [
    {
     "data": {
      "text/plain": [
       "count    6034.000000\n",
       "mean        2.250249\n",
       "std         0.816509\n",
       "min         1.000000\n",
       "25%         2.000000\n",
       "50%         2.000000\n",
       "75%         3.000000\n",
       "max         3.000000\n",
       "Name: owners, dtype: float64"
      ]
     },
     "metadata": {},
     "output_type": "display_data"
    },
    {
     "data": {
      "image/png": "[encoded data removed]",
      "text/plain": [
       "<Figure size 576x360 with 1 Axes>"
      ]
     },
     "metadata": {
      "needs_background": "light"
     },
     "output_type": "display_data"
    }
   ],
   "source": [
    "column_stats(cars['owners'])"
   ]
  },
  {
   "cell_type": "markdown",
   "metadata": {},
   "source": [
    "# vehicle_title"
   ]
  },
  {
   "cell_type": "code",
   "execution_count": 31,
   "metadata": {},
   "outputs": [
    {
     "data": {
      "text/plain": [
       "count         6034\n",
       "unique           2\n",
       "top       Оригинал\n",
       "freq          5120\n",
       "Name: vehicle_title, dtype: object"
      ]
     },
     "metadata": {},
     "output_type": "display_data"
    },
    {
     "data": {
      "text/plain": [
       "Оригинал    5120\n",
       "Дубликат     914\n",
       "Name: vehicle_title, dtype: int64"
      ]
     },
     "metadata": {},
     "output_type": "display_data"
    }
   ],
   "source": [
    "column_stats(cars['vehicle_title'])"
   ]
  },
  {
   "cell_type": "code",
   "execution_count": 32,
   "metadata": {},
   "outputs": [],
   "source": [
    "params={'Оригинал': 'original_passport',\n",
    "        'Дубликат': 'copy_passport',}\n",
    "\n",
    "cars = onehot_encode(cars, cars[['vehicle_title']], params, rename=True)\n",
    "cars.drop(columns=['vehicle_title'], inplace=True)"
   ]
  },
  {
   "cell_type": "markdown",
   "metadata": {},
   "source": [
    "# description"
   ]
  },
  {
   "cell_type": "markdown",
   "metadata": {},
   "source": [
    "# features"
   ]
  },
  {
   "cell_type": "markdown",
   "metadata": {},
   "source": [
    "# ownership"
   ]
  },
  {
   "cell_type": "markdown",
   "metadata": {},
   "source": [
    "# price"
   ]
  },
  {
   "cell_type": "code",
   "execution_count": 33,
   "metadata": {},
   "outputs": [
    {
     "data": {
      "text/plain": [
       "count    6.034000e+03\n",
       "mean     1.329250e+06\n",
       "std      1.201937e+06\n",
       "min      5.000000e+04\n",
       "25%      5.800000e+05\n",
       "50%      1.050000e+06\n",
       "75%      1.600000e+06\n",
       "max      1.269000e+07\n",
       "Name: price, dtype: float64"
      ]
     },
     "metadata": {},
     "output_type": "display_data"
    },
    {
     "data": {
      "image/png": "[encoded data removed]",
      "text/plain": [
       "<Figure size 576x360 with 1 Axes>"
      ]
     },
     "metadata": {
      "needs_background": "light"
     },
     "output_type": "display_data"
    }
   ],
   "source": [
    "column_stats(cars['price'])"
   ]
  },
  {
   "cell_type": "code",
   "execution_count": 35,
   "metadata": {},
   "outputs": [],
   "source": [
    "cars.to_csv('auto_ru_cars_dummies.csv', index=False)"
   ]
  }
 ],
 "metadata": {
  "kernelspec": {
   "display_name": "Python 3",
   "language": "python",
   "name": "python3"
  },
  "language_info": {
   "codemirror_mode": {
    "name": "ipython",
    "version": 3
   },
   "file_extension": ".py",
   "mimetype": "text/x-python",
   "name": "python",
   "nbconvert_exporter": "python",
   "pygments_lexer": "ipython3",
   "version": "3.7.7"
  }
 },
 "nbformat": 4,
 "nbformat_minor": 2
}
